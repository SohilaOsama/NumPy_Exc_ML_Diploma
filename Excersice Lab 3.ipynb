{
 "cells": [
  {
   "cell_type": "markdown",
   "id": "eb30e1be-43dd-4524-85c4-8426a675149e",
   "metadata": {
    "id": "2Rd0p8RS0Ibp",
    "tags": []
   },
   "source": [
    "## Exercise"
   ]
  },
  {
   "cell_type": "markdown",
   "id": "71aa4cd7-6cee-49da-bd74-a5828d391161",
   "metadata": {
    "id": "ZfnoxULa0aeI"
   },
   "source": [
    "E1: Test whether none of the elements of a given array is zero\n",
    "\n",
    "[[1,0,2,np.nan],[2,5,0,np.inf]]"
   ]
  },
  {
   "cell_type": "code",
   "execution_count": null,
   "id": "39cafd1f-f9e8-4c06-ac94-421f75465887",
   "metadata": {
    "executionInfo": {
     "elapsed": 135,
     "status": "ok",
     "timestamp": 1644199512781,
     "user": {
      "displayName": "Steven Ding",
      "photoUrl": "https://lh3.googleusercontent.com/a-/AOh14GjJ1wifoAlDie6EVH7FiNxOje0AIs0q1vkuL8x46w=s64",
      "userId": "05817880025136816974"
     },
     "user_tz": 300
    },
    "id": "PYNuLQ5t1Wjp"
   },
   "outputs": [],
   "source": [
    "# your code here\n",
    "\n"
   ]
  },
  {
   "cell_type": "markdown",
   "id": "a2ec0281-33ad-426f-ac42-bf1d5c926d8b",
   "metadata": {
    "id": "K5_u_14c1AVq"
   },
   "source": [
    "E2: Test a given array element-wise for finiteness (not infinity or not a Number)"
   ]
  },
  {
   "cell_type": "code",
   "execution_count": null,
   "id": "c6d597f8-7405-43fc-bd3c-07186c706aa7",
   "metadata": {},
   "outputs": [],
   "source": []
  },
  {
   "cell_type": "markdown",
   "id": "3db4a28f-76ca-4c90-b3e1-8e771ee2c96d",
   "metadata": {
    "id": "FQsAY7O01GMy"
   },
   "source": [
    "E3: Create an array of 10 zeros,10 ones, 10 fives"
   ]
  },
  {
   "cell_type": "code",
   "execution_count": null,
   "id": "b42300cd-03cb-421b-94b2-dea00961aa1f",
   "metadata": {},
   "outputs": [],
   "source": []
  },
  {
   "cell_type": "markdown",
   "id": "f5b5a07d-726c-47c3-8f10-e98a08120ed6",
   "metadata": {
    "id": "YSWOA5LK1Rw9"
   },
   "source": [
    "E4: Create a 3x4 matrix filled with values from 10 to 21"
   ]
  },
  {
   "cell_type": "code",
   "execution_count": null,
   "id": "bd6e0721-a42f-47c3-8806-b98980a8e070",
   "metadata": {},
   "outputs": [],
   "source": []
  },
  {
   "cell_type": "markdown",
   "id": "d868fa39-6d49-4070-865c-f1bf46af407d",
   "metadata": {
    "id": "yognO9wf2HxP"
   },
   "source": [
    "E5: Create a vector with values from 0 to 20 and change the sign of the numbers in the range from 9 to 15\n"
   ]
  },
  {
   "cell_type": "code",
   "execution_count": null,
   "id": "99b070a2-534a-4c2a-97af-52700523dab5",
   "metadata": {},
   "outputs": [],
   "source": []
  }
 ],
 "metadata": {
  "kernelspec": {
   "display_name": "Python 3 (ipykernel)",
   "language": "python",
   "name": "python3"
  },
  "language_info": {
   "codemirror_mode": {
    "name": "ipython",
    "version": 3
   },
   "file_extension": ".py",
   "mimetype": "text/x-python",
   "name": "python",
   "nbconvert_exporter": "python",
   "pygments_lexer": "ipython3",
   "version": "3.9.15"
  }
 },
 "nbformat": 4,
 "nbformat_minor": 5
}
